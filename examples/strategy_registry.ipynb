{
 "cells": [
  {
   "cell_type": "code",
   "execution_count": 1,
   "metadata": {},
   "outputs": [],
   "source": [
    "import sys\n",
    "import os\n",
    "# Add the parent directory to the Python path\n",
    "\n",
    "# Change the current working directory to /app\n",
    "os.chdir('/app')"
   ]
  },
  {
   "cell_type": "code",
   "execution_count": 2,
   "metadata": {},
   "outputs": [
    {
     "data": {
      "text/plain": [
       "{'EMA Crossover Strategy': {'class': strategy.public.EmaStrat.EMAStrategy,\n",
       "  'params': {'fast_ema_period': 10, 'slow_ema_period': 100}}}"
      ]
     },
     "execution_count": 2,
     "metadata": {},
     "output_type": "execute_result"
    }
   ],
   "source": [
    "from strategy.strategy_registry import STRATEGY_REGISTRY\n",
    "\n",
    "STRATEGY_REGISTRY"
   ]
  },
  {
   "cell_type": "code",
   "execution_count": 3,
   "metadata": {},
   "outputs": [],
   "source": [
    "import pandas as pd\n",
    "\n",
    "def dummy_progress(progress: int, status: str) -> None:\n",
    "        print(f\"Progress: {progress}% - {status}\")\n",
    "\n",
    "strategy_func = STRATEGY_REGISTRY['EMA Crossover Strategy']['class']\n",
    "\n",
    "# Initialize strategy with parameters\n",
    "ema_strategy = strategy_func(\n",
    "    fast_ema_period=10,\n",
    "    slow_ema_period=100\n",
    ")"
   ]
  },
  {
   "cell_type": "code",
   "execution_count": 5,
   "metadata": {},
   "outputs": [
    {
     "name": "stdout",
     "output_type": "stream",
     "text": [
      "Len items in 'database/finstore/market_name=crypto_binance/timeframe=15m': 481\n"
     ]
    }
   ],
   "source": [
    "from finstore.finstore import Finstore\n",
    "symbol_list = ['ETH/BTC']\n",
    "market_name = 'crypto_binance'\n",
    "timeframe='15m'\n",
    "finstore = Finstore(market_name=market_name, timeframe=timeframe, pair='BTC')\n",
    "\n",
    "ohlcv_data = finstore.read.symbol_list(symbol_list)"
   ]
  },
  {
   "cell_type": "code",
   "execution_count": 6,
   "metadata": {},
   "outputs": [],
   "source": [
    "entries, exits, close_data, open_data = ema_strategy.run(ohlcv_data)"
   ]
  },
  {
   "cell_type": "code",
   "execution_count": 7,
   "metadata": {},
   "outputs": [
    {
     "name": "stderr",
     "output_type": "stream",
     "text": [
      "/usr/local/lib/python3.11/site-packages/dash_bootstrap_components/_table.py:5: UserWarning: \n",
      "The dash_html_components package is deprecated. Please replace\n",
      "`import dash_html_components as html` with `from dash import html`\n",
      "  import dash_html_components as html\n"
     ]
    },
    {
     "name": "stdout",
     "output_type": "stream",
     "text": [
      "Progress: 0% - Fetching data...\n",
      "Len items in 'database/finstore/market_name=crypto_binance/timeframe=15m': 481\n",
      "Progress: 5% - Reading existing data...\n",
      "df index : 0, df timestamp : 2025-02-07 14:30:00\n",
      "Progress: 25% - Running strategy...\n",
      "Progress: 50% - Simulating portfolio...\n",
      "Progress: 75% - Saving results...\n",
      "Progress: 80% - Saving portfolio...\n",
      "Progress: 85% - Saving trades...\n",
      "Progress: 95% - Backtest saved.\n",
      "Progress: 100% - Backtest complete.\n"
     ]
    }
   ],
   "source": [
    "from backtest_engine.backtester import Backtester\n",
    "\n",
    "backtester = Backtester(\n",
    "    market_name='crypto_binance',\n",
    "    symbol_list=['ETH/BTC'],\n",
    "    timeframe='15m',\n",
    "    strategy_object=ema_strategy,\n",
    "    strategy_type='multi',\n",
    "    start_date=pd.Timestamp('2025-01-01'),\n",
    "    end_date=pd.Timestamp('2025-02-13'),\n",
    "    init_cash=100000,\n",
    "    fees=0.0001,\n",
    "    slippage=0.0001,\n",
    "    size=0.1,\n",
    "    cash_sharing=True,\n",
    "    allow_partial=True,\n",
    "    progress_callback=dummy_progress,\n",
    "    pair='BTC'\n",
    ")"
   ]
  },
  {
   "cell_type": "code",
   "execution_count": null,
   "metadata": {},
   "outputs": [],
   "source": []
  }
 ],
 "metadata": {
  "kernelspec": {
   "display_name": "Python 3",
   "language": "python",
   "name": "python3"
  },
  "language_info": {
   "codemirror_mode": {
    "name": "ipython",
    "version": 3
   },
   "file_extension": ".py",
   "mimetype": "text/x-python",
   "name": "python",
   "nbconvert_exporter": "python",
   "pygments_lexer": "ipython3",
   "version": "3.11.10"
  }
 },
 "nbformat": 4,
 "nbformat_minor": 2
}
