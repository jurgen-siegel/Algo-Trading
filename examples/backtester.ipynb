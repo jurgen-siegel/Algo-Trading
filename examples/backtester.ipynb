{
 "cells": [
  {
   "cell_type": "code",
   "execution_count": 1,
   "metadata": {},
   "outputs": [],
   "source": [
    "import sys\n",
    "import os\n",
    "# Add the parent directory to the Python path\n",
    "\n",
    "# Change the current working directory to /app\n",
    "os.chdir('/app')"
   ]
  },
  {
   "cell_type": "code",
   "execution_count": 3,
   "metadata": {},
   "outputs": [
    {
     "data": {
      "text/plain": [
       "{'EMA Crossover Strategy_15m_2025-02-15': {'backtest_id': 'EMA Crossover Strategy_15m_2025-02-15',\n",
       "  'created_at': '2025-02-15T09:16:46.811931',\n",
       "  'strategy_name': 'EMA Crossover Strategy',\n",
       "  'market_name': 'crypto_binance',\n",
       "  'symbol_list': ['ACA/BTC', 'AAVE/BTC'],\n",
       "  'pair': 'BTC',\n",
       "  'timeframe': '15m',\n",
       "  'strategy_type': 'multi',\n",
       "  'start_date': '2023-01-01T00:00:00',\n",
       "  'end_date': '2026-01-01T00:00:00',\n",
       "  'init_cash': 100000,\n",
       "  'fees': 0.0005,\n",
       "  'slippage': 0.001,\n",
       "  'size': 0.01,\n",
       "  'cash_sharing': True,\n",
       "  'allow_partial': True,\n",
       "  'strategy_params': {'fast_ema_period': 10, 'slow_ema_period': 100},\n",
       "  'performance': {'returns': -0.0018494811948938422,\n",
       "   'sharpe_ratio': -8.88553265305028,\n",
       "   'max_drawdown': -0.0027299314471042058,\n",
       "   'duration_days': 1096}}}"
      ]
     },
     "execution_count": 3,
     "metadata": {},
     "output_type": "execute_result"
    }
   ],
   "source": [
    "from backtest_engine.backtester import Backtester\n",
    "Backtester.list_backtests()"
   ]
  },
  {
   "cell_type": "code",
   "execution_count": 5,
   "metadata": {},
   "outputs": [],
   "source": [
    "pf, backtest_params = Backtester.load_backtest('EMA Crossover Strategy_15m_2025-02-15')"
   ]
  },
  {
   "cell_type": "code",
   "execution_count": 6,
   "metadata": {},
   "outputs": [
    {
     "data": {
      "text/plain": [
       "Start Index                   2025-02-07 14:30:00\n",
       "End Index                     2025-02-14 12:15:00\n",
       "Total Duration                    6 days 22:00:00\n",
       "Start Value                              100000.0\n",
       "Min Value                            99798.049469\n",
       "Max Value                           100071.237086\n",
       "End Value                            99815.051881\n",
       "Total Return [%]                        -0.184948\n",
       "Benchmark Return [%]                      2.98421\n",
       "Position Coverage [%]                   70.933735\n",
       "Max Gross Exposure [%]                   2.086066\n",
       "Max Drawdown [%]                         0.272993\n",
       "Max Drawdown Duration             5 days 08:00:00\n",
       "Total Orders                                   27\n",
       "Total Fees Paid                         13.394875\n",
       "Total Trades                                   14\n",
       "Win Rate [%]                            23.076923\n",
       "Best Trade [%]                           1.420132\n",
       "Worst Trade [%]                         -5.049715\n",
       "Avg Winning Trade [%]                    0.829064\n",
       "Avg Losing Trade [%]                    -2.582957\n",
       "Avg Winning Trade Duration        1 days 05:20:00\n",
       "Avg Losing Trade Duration         0 days 05:07:30\n",
       "Profit Factor                            0.096344\n",
       "Expectancy                             -17.958671\n",
       "Sharpe Ratio                            -8.885533\n",
       "Calmar Ratio                            -34.09226\n",
       "Omega Ratio                              0.835106\n",
       "Sortino Ratio                          -11.501707\n",
       "Name: group, dtype: object"
      ]
     },
     "execution_count": 6,
     "metadata": {},
     "output_type": "execute_result"
    }
   ],
   "source": [
    "pf.stats()"
   ]
  },
  {
   "cell_type": "code",
   "execution_count": null,
   "metadata": {},
   "outputs": [],
   "source": []
  }
 ],
 "metadata": {
  "kernelspec": {
   "display_name": "Python 3",
   "language": "python",
   "name": "python3"
  },
  "language_info": {
   "codemirror_mode": {
    "name": "ipython",
    "version": 3
   },
   "file_extension": ".py",
   "mimetype": "text/x-python",
   "name": "python",
   "nbconvert_exporter": "python",
   "pygments_lexer": "ipython3",
   "version": "3.11.10"
  }
 },
 "nbformat": 4,
 "nbformat_minor": 2
}
