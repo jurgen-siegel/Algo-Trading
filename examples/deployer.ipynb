{
 "cells": [
  {
   "cell_type": "code",
   "execution_count": 1,
   "metadata": {},
   "outputs": [],
   "source": [
    "import sys\n",
    "import os\n",
    "# Add the parent directory to the Python path\n",
    "\n",
    "# Change the current working directory to /app\n",
    "os.chdir('/app')"
   ]
  },
  {
   "cell_type": "code",
   "execution_count": 2,
   "metadata": {},
   "outputs": [
    {
     "name": "stderr",
     "output_type": "stream",
     "text": [
      "/usr/local/lib/python3.11/site-packages/dash_bootstrap_components/_table.py:5: UserWarning: \n",
      "The dash_html_components package is deprecated. Please replace\n",
      "`import dash_html_components as html` with `from dash import html`\n",
      "  import dash_html_components as html\n"
     ]
    },
    {
     "data": {
      "text/plain": [
       "{'EMA Crossover Strategy_15m_2025-02-15': {'backtest_id': 'EMA Crossover Strategy_15m_2025-02-15',\n",
       "  'created_at': '2025-02-15T09:16:46.811931',\n",
       "  'strategy_name': 'EMA Crossover Strategy',\n",
       "  'market_name': 'crypto_binance',\n",
       "  'symbol_list': ['ACA/BTC', 'AAVE/BTC'],\n",
       "  'pair': 'BTC',\n",
       "  'timeframe': '15m',\n",
       "  'strategy_type': 'multi',\n",
       "  'start_date': '2023-01-01T00:00:00',\n",
       "  'end_date': '2026-01-01T00:00:00',\n",
       "  'init_cash': 100000,\n",
       "  'fees': 0.0005,\n",
       "  'slippage': 0.001,\n",
       "  'size': 0.01,\n",
       "  'cash_sharing': True,\n",
       "  'allow_partial': True,\n",
       "  'strategy_params': {'fast_ema_period': 10, 'slow_ema_period': 100},\n",
       "  'performance': {'returns': -0.0018494811948938422,\n",
       "   'sharpe_ratio': -8.88553265305028,\n",
       "   'max_drawdown': -0.0027299314471042058,\n",
       "   'duration_days': 1096}}}"
      ]
     },
     "execution_count": 2,
     "metadata": {},
     "output_type": "execute_result"
    }
   ],
   "source": [
    "from deployment_engine.deployer import Deployer\n",
    "from backtest_engine.backtester import Backtester\n",
    "\n",
    "backtests = Backtester.list_backtests()\n",
    "backtests"
   ]
  },
  {
   "cell_type": "code",
   "execution_count": 3,
   "metadata": {},
   "outputs": [
    {
     "name": "stdout",
     "output_type": "stream",
     "text": [
      "group id ::::::::::: -4686173479\n"
     ]
    },
    {
     "data": {
      "text/plain": [
       "<deployment_engine.deployer.Deployer at 0x7feedfa38750>"
      ]
     },
     "execution_count": 3,
     "metadata": {},
     "output_type": "execute_result"
    },
    {
     "name": "stdout",
     "output_type": "stream",
     "text": [
      "Len items in 'database/finstore/market_name=crypto_binance/timeframe=15m': 481\n"
     ]
    }
   ],
   "source": [
    "Deployer.from_backtest_uuid(\n",
    "    backtest_uuid='EMA Crossover Strategy_15m_2025-02-15',\n",
    "    oms_name='Telegram',\n",
    "    scheduler_type='fixed_interval',\n",
    "    scheduler_interval='1',\n",
    "    oms_params={'group_id': '-4686173479'},\n",
    ")"
   ]
  },
  {
   "cell_type": "code",
   "execution_count": 3,
   "metadata": {},
   "outputs": [],
   "source": [
    "from strategy.strategy_registry import STRATEGY_REGISTRY\n",
    "strategy_in = STRATEGY_REGISTRY['EMA Crossover Strategy']['class']"
   ]
  },
  {
   "cell_type": "code",
   "execution_count": 4,
   "metadata": {},
   "outputs": [],
   "source": [
    "strategy_obj = strategy_in(10,100)\n",
    "def dummy_progress(progress: int, status: str) -> None:\n",
    "        print(f\"Progress: {progress}% - {status}\")"
   ]
  },
  {
   "cell_type": "code",
   "execution_count": null,
   "metadata": {},
   "outputs": [],
   "source": [
    "import pandas as pd\n",
    "Deployer.from_market_params(\n",
    "    market_name='crypto_binance',\n",
    "    symbol_list=['ETH/BTC', 'LTC/BTC'],\n",
    "    timeframe='15m',\n",
    "    scheduler_type='fixed_interval',\n",
    "    scheduler_interval='1',\n",
    "    strategy_object=strategy_obj,\n",
    "    strategy_type='multi',\n",
    "    start_date=pd.Timestamp('2020-01-01'),\n",
    "    end_date=pd.Timestamp('2026-01-01'),\n",
    "    init_cash=100000,\n",
    "    fees=0.001,\n",
    "    slippage=0.001,\n",
    "    size=1,\n",
    "    cash_sharing=True,\n",
    "    allow_partial=True,\n",
    "    oms_name='Telegram',\n",
    "    pair='BTC',\n",
    "    oms_params={'group_id': '-4686173479'},\n",
    "    progress_callback=dummy_progress\n",
    ")"
   ]
  },
  {
   "cell_type": "code",
   "execution_count": null,
   "metadata": {},
   "outputs": [],
   "source": []
  }
 ],
 "metadata": {
  "kernelspec": {
   "display_name": "Python 3",
   "language": "python",
   "name": "python3"
  },
  "language_info": {
   "codemirror_mode": {
    "name": "ipython",
    "version": 3
   },
   "file_extension": ".py",
   "mimetype": "text/x-python",
   "name": "python",
   "nbconvert_exporter": "python",
   "pygments_lexer": "ipython3",
   "version": "3.11.10"
  }
 },
 "nbformat": 4,
 "nbformat_minor": 2
}
