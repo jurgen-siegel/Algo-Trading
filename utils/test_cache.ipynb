{
 "cells": [
  {
   "cell_type": "code",
   "execution_count": 1,
   "metadata": {},
   "outputs": [],
   "source": [
    "import os \n",
    "os.chdir('/app')"
   ]
  },
  {
   "cell_type": "code",
   "execution_count": 2,
   "metadata": {},
   "outputs": [],
   "source": [
    "from utils.decorators import (\n",
    "    cache_decorator,\n",
    "    clear_specific_cache, update_cache, clear_cache, fetch_cache_keys\n",
    ")\n",
    "import time\n",
    "\n",
    "@cache_decorator(expire=60)  # Cache results for 60 seconds\n",
    "def add_numbers(a, b):\n",
    "    print(f\"Calculating {a} + {b}...\")\n",
    "    time.sleep(2)  # Simulate a time-consuming operation\n",
    "    return a + b"
   ]
  },
  {
   "cell_type": "code",
   "execution_count": 3,
   "metadata": {},
   "outputs": [],
   "source": [
    "@cache_decorator(expire=60)  # Cache results for 60 seconds\n",
    "def multiply_numbers(a, b):\n",
    "    print(f\"Calculating {a} * {b}...\")\n",
    "    time.sleep(2)  # Simulate a time-consuming operation\n",
    "    return a * b"
   ]
  },
  {
   "cell_type": "code",
   "execution_count": 9,
   "metadata": {},
   "outputs": [
    {
     "name": "stdout",
     "output_type": "stream",
     "text": [
      "Multiply\n",
      "Result: 35\n",
      "\n"
     ]
    }
   ],
   "source": [
    "print('Multiply')\n",
    "result = multiply_numbers(5, 7)\n",
    "print(f\"Result: {result}\\n\")"
   ]
  },
  {
   "cell_type": "code",
   "execution_count": 10,
   "metadata": {},
   "outputs": [
    {
     "name": "stdout",
     "output_type": "stream",
     "text": [
      "First call:\n",
      "Result: 12\n",
      "\n"
     ]
    }
   ],
   "source": [
    "# Use the cached function\n",
    "print(\"First call:\")\n",
    "result = add_numbers(5, 7)\n",
    "print(f\"Result: {result}\\n\")"
   ]
  },
  {
   "cell_type": "code",
   "execution_count": 11,
   "metadata": {},
   "outputs": [
    {
     "name": "stdout",
     "output_type": "stream",
     "text": [
      "Second call:\n",
      "Result: 12\n",
      "\n"
     ]
    }
   ],
   "source": [
    "# Use the cached function\n",
    "print(\"Second call:\")\n",
    "result = add_numbers(5, 7)\n",
    "print(f\"Result: {result}\\n\")"
   ]
  },
  {
   "cell_type": "code",
   "execution_count": 12,
   "metadata": {},
   "outputs": [
    {
     "name": "stdout",
     "output_type": "stream",
     "text": [
      "Different arguments:\n",
      "Result: 25\n",
      "\n"
     ]
    }
   ],
   "source": [
    "print(\"Different arguments:\")\n",
    "result = add_numbers(5, 20)\n",
    "print(f\"Result: {result}\\n\")"
   ]
  },
  {
   "cell_type": "code",
   "execution_count": 13,
   "metadata": {},
   "outputs": [
    {
     "name": "stdout",
     "output_type": "stream",
     "text": [
      "Different arguments but same b:\n",
      "Result: 18\n",
      "\n"
     ]
    }
   ],
   "source": [
    "print(\"Different arguments but same b:\")\n",
    "result = add_numbers(11, 7)\n",
    "print(f\"Result: {result}\\n\")"
   ]
  },
  {
   "cell_type": "code",
   "execution_count": 18,
   "metadata": {},
   "outputs": [
    {
     "name": "stdout",
     "output_type": "stream",
     "text": [
      "Successfully cleared 0 cache entries for function: \n"
     ]
    },
    {
     "data": {
      "text/plain": [
       "0"
      ]
     },
     "execution_count": 18,
     "metadata": {},
     "output_type": "execute_result"
    }
   ],
   "source": [
    "clear_specific_cache('')"
   ]
  },
  {
   "cell_type": "code",
   "execution_count": 15,
   "metadata": {},
   "outputs": [
    {
     "name": "stdout",
     "output_type": "stream",
     "text": [
      "Successfully cleared 3 cache entries for function: add_numbers\n"
     ]
    },
    {
     "data": {
      "text/plain": [
       "3"
      ]
     },
     "execution_count": 15,
     "metadata": {},
     "output_type": "execute_result"
    }
   ],
   "source": [
    "clear_specific_cache('add_numbers')"
   ]
  },
  {
   "cell_type": "code",
   "execution_count": 19,
   "metadata": {},
   "outputs": [],
   "source": [
    "clear_cache()"
   ]
  },
  {
   "cell_type": "code",
   "execution_count": 21,
   "metadata": {},
   "outputs": [
    {
     "name": "stdout",
     "output_type": "stream",
     "text": [
      "{'add_numbers': ['add_numbers/a=11/b=7', 'add_numbers/a=5/b=20', 'add_numbers/a=5/b=7']}\n"
     ]
    }
   ],
   "source": [
    "if fetch_cache_keys(func_name='add_numbers') != {}:\n",
    "    print(fetch_cache_keys(func_name='add_numbers'))"
   ]
  },
  {
   "cell_type": "code",
   "execution_count": 19,
   "metadata": {},
   "outputs": [
    {
     "data": {
      "text/plain": [
       "{None: ['5bb61f369ea3a15e2ed40db68f0a5396']}"
      ]
     },
     "execution_count": 19,
     "metadata": {},
     "output_type": "execute_result"
    }
   ],
   "source": [
    "fetch_cache_keys()"
   ]
  },
  {
   "cell_type": "code",
   "execution_count": 15,
   "metadata": {},
   "outputs": [
    {
     "name": "stdout",
     "output_type": "stream",
     "text": [
      "Calculating 5 * 7...\n"
     ]
    },
    {
     "data": {
      "text/plain": [
       "True"
      ]
     },
     "execution_count": 15,
     "metadata": {},
     "output_type": "execute_result"
    }
   ],
   "source": [
    "multiply_result = multiply_numbers(5, 7)\n",
    "update_cache('add_numbers', multiply_result, expire=60, a=5)"
   ]
  }
 ],
 "metadata": {
  "kernelspec": {
   "display_name": "Python 3",
   "language": "python",
   "name": "python3"
  },
  "language_info": {
   "codemirror_mode": {
    "name": "ipython",
    "version": 3
   },
   "file_extension": ".py",
   "mimetype": "text/x-python",
   "name": "python",
   "nbconvert_exporter": "python",
   "pygments_lexer": "ipython3",
   "version": "3.11.10"
  }
 },
 "nbformat": 4,
 "nbformat_minor": 2
}
